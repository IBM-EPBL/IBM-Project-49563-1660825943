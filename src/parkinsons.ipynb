{
 "cells": [
  {
   "cell_type": "code",
   "execution_count": 2,
   "metadata": {},
   "outputs": [],
   "source": [
    "# Importing the Necessary Libraries\n",
    "from sklearn.ensemble import RandomForestClassifier\n",
    "from sklearn.preprocessing import LabelEncoder\n",
    "from sklearn.metrics import confusion_matrix\n",
    "from skimage import feature \n",
    "from imutils import build_montages\n",
    "from imutils import paths\n",
    "import numpy as np\n",
    "import cv2\n",
    "import os\n",
    "import pickle"
   ]
  },
  {
   "cell_type": "code",
   "execution_count": 3,
   "metadata": {},
   "outputs": [],
   "source": [
    "def quantify_image(img):\n",
    "\n",
    "    '''\n",
    "    Function to compute the histogram of oriented gradients feature vector of the given input img\n",
    "    \n",
    "    Parameters: img - Image file\n",
    "\n",
    "    Output: Returns feature vector\n",
    "    '''\n",
    "\n",
    "    features = feature.hog(\n",
    "                            image=img,\n",
    "                            orientations=9,\n",
    "                            pixels_per_cell=(10,10),\n",
    "                            cells_per_block=(2,2),\n",
    "                            transform_sqrt=True,\n",
    "                            block_norm=\"L1\")\n",
    "\n",
    "    return features"
   ]
  },
  {
   "cell_type": "code",
   "execution_count": 4,
   "metadata": {},
   "outputs": [],
   "source": [
    "def load_split(path):\n",
    "    \n",
    "    '''\n",
    "\n",
    "    Takes the list of images from the input directory and then initialize the the images with the labels (i.e) Labelling Image.\n",
    "    Here before labelling the image is preprocessed with the following steps: Grayscaling, Resizing, Thresholding and finally the image after is thresholded it is quantified to obtain the histogram of gradient features\n",
    "\n",
    "    Parameters: path - Image Directory Source path\n",
    "\n",
    "    Returns:\n",
    "    A tuple containing two numpy arrays:\n",
    "    data - an array of hog features computed on images\n",
    "    labels - an array of image labels\n",
    "\n",
    "    '''\n",
    "\n",
    "    imagePaths = list(paths.list_images(path))\n",
    "    data = []\n",
    "    labels = []\n",
    "    for imagePath in imagePaths:\n",
    "        label = imagePath.split(os.path.sep)[-2]\n",
    "        image = cv2.imread(imagePath)\n",
    "        image = cv2.cvtColor(image, cv2.COLOR_BGR2GRAY) \n",
    "        image = cv2.resize(image, (200, 200))\n",
    "        image = cv2.threshold (image, 0, 255, cv2.THRESH_BINARY_INV | cv2.THRESH_OTSU) [1]\n",
    "        features = quantify_image(image)\n",
    "        data.append(features)\n",
    "        labels.append(label)\n",
    "        \n",
    "    return (np.array(data), np.array(labels))"
   ]
  },
  {
   "cell_type": "code",
   "execution_count": 5,
   "metadata": {},
   "outputs": [
    {
     "name": "stdout",
     "output_type": "stream",
     "text": [
      "[INFO] loading data...\n",
      "['healthy' 'healthy' 'healthy' 'healthy' 'healthy' 'healthy' 'healthy'\n",
      " 'healthy' 'healthy' 'healthy' 'healthy' 'healthy' 'healthy' 'healthy'\n",
      " 'healthy' 'healthy' 'healthy' 'healthy' 'healthy' 'healthy' 'healthy'\n",
      " 'healthy' 'healthy' 'healthy' 'healthy' 'healthy' 'healthy' 'healthy'\n",
      " 'healthy' 'healthy' 'parkinson' 'parkinson' 'parkinson' 'parkinson'\n",
      " 'parkinson' 'parkinson' 'parkinson' 'parkinson' 'parkinson' 'parkinson'\n",
      " 'parkinson' 'parkinson' 'parkinson' 'parkinson' 'parkinson' 'parkinson'\n",
      " 'parkinson' 'parkinson' 'parkinson' 'parkinson' 'parkinson' 'parkinson'\n",
      " 'parkinson' 'parkinson' 'parkinson' 'parkinson' 'parkinson' 'parkinson'\n",
      " 'parkinson' 'parkinson']\n",
      "(144, 12996) (144,)\n"
     ]
    }
   ],
   "source": [
    "# Loading Training and Testing data\n",
    "trainingPath = r\"dataset\\training\"\n",
    "testingPath = r\"dataset\\testing\"\n",
    "# loading the training and testing data \n",
    "print(\"[INFO] loading data...\")\n",
    "(X_train, y_train) = load_split(trainingPath) \n",
    "(X_test, y_test) = load_split(testingPath)\n",
    "# Encoding the labels\n",
    "le = LabelEncoder()\n",
    "print(y_test)\n",
    "y_train = le.fit_transform(y_train)\n",
    "y_test = le.transform(y_test) \n",
    "print(X_train. shape, y_train.shape)"
   ]
  },
  {
   "cell_type": "code",
   "execution_count": 6,
   "metadata": {},
   "outputs": [
    {
     "data": {
      "text/plain": [
       "array([[0.        , 0.        , 0.        , ..., 0.        , 0.        ,\n",
       "        0.        ],\n",
       "       [0.        , 0.        , 0.        , ..., 0.        , 0.        ,\n",
       "        0.        ],\n",
       "       [0.        , 0.        , 0.        , ..., 0.        , 0.        ,\n",
       "        0.        ],\n",
       "       ...,\n",
       "       [0.24999804, 0.        , 0.        , ..., 0.        , 0.        ,\n",
       "        0.        ],\n",
       "       [0.12675901, 0.        , 0.07381471, ..., 0.        , 0.        ,\n",
       "        0.        ],\n",
       "       [0.        , 0.        , 0.        , ..., 0.        , 0.        ,\n",
       "        0.        ]])"
      ]
     },
     "execution_count": 6,
     "metadata": {},
     "output_type": "execute_result"
    }
   ],
   "source": [
    "X_train"
   ]
  },
  {
   "cell_type": "code",
   "execution_count": 7,
   "metadata": {},
   "outputs": [
    {
     "name": "stdout",
     "output_type": "stream",
     "text": [
      "[INFO] training model\n"
     ]
    },
    {
     "data": {
      "text/html": [
       "<style>#sk-container-id-1 {color: black;background-color: white;}#sk-container-id-1 pre{padding: 0;}#sk-container-id-1 div.sk-toggleable {background-color: white;}#sk-container-id-1 label.sk-toggleable__label {cursor: pointer;display: block;width: 100%;margin-bottom: 0;padding: 0.3em;box-sizing: border-box;text-align: center;}#sk-container-id-1 label.sk-toggleable__label-arrow:before {content: \"▸\";float: left;margin-right: 0.25em;color: #696969;}#sk-container-id-1 label.sk-toggleable__label-arrow:hover:before {color: black;}#sk-container-id-1 div.sk-estimator:hover label.sk-toggleable__label-arrow:before {color: black;}#sk-container-id-1 div.sk-toggleable__content {max-height: 0;max-width: 0;overflow: hidden;text-align: left;background-color: #f0f8ff;}#sk-container-id-1 div.sk-toggleable__content pre {margin: 0.2em;color: black;border-radius: 0.25em;background-color: #f0f8ff;}#sk-container-id-1 input.sk-toggleable__control:checked~div.sk-toggleable__content {max-height: 200px;max-width: 100%;overflow: auto;}#sk-container-id-1 input.sk-toggleable__control:checked~label.sk-toggleable__label-arrow:before {content: \"▾\";}#sk-container-id-1 div.sk-estimator input.sk-toggleable__control:checked~label.sk-toggleable__label {background-color: #d4ebff;}#sk-container-id-1 div.sk-label input.sk-toggleable__control:checked~label.sk-toggleable__label {background-color: #d4ebff;}#sk-container-id-1 input.sk-hidden--visually {border: 0;clip: rect(1px 1px 1px 1px);clip: rect(1px, 1px, 1px, 1px);height: 1px;margin: -1px;overflow: hidden;padding: 0;position: absolute;width: 1px;}#sk-container-id-1 div.sk-estimator {font-family: monospace;background-color: #f0f8ff;border: 1px dotted black;border-radius: 0.25em;box-sizing: border-box;margin-bottom: 0.5em;}#sk-container-id-1 div.sk-estimator:hover {background-color: #d4ebff;}#sk-container-id-1 div.sk-parallel-item::after {content: \"\";width: 100%;border-bottom: 1px solid gray;flex-grow: 1;}#sk-container-id-1 div.sk-label:hover label.sk-toggleable__label {background-color: #d4ebff;}#sk-container-id-1 div.sk-serial::before {content: \"\";position: absolute;border-left: 1px solid gray;box-sizing: border-box;top: 0;bottom: 0;left: 50%;z-index: 0;}#sk-container-id-1 div.sk-serial {display: flex;flex-direction: column;align-items: center;background-color: white;padding-right: 0.2em;padding-left: 0.2em;position: relative;}#sk-container-id-1 div.sk-item {position: relative;z-index: 1;}#sk-container-id-1 div.sk-parallel {display: flex;align-items: stretch;justify-content: center;background-color: white;position: relative;}#sk-container-id-1 div.sk-item::before, #sk-container-id-1 div.sk-parallel-item::before {content: \"\";position: absolute;border-left: 1px solid gray;box-sizing: border-box;top: 0;bottom: 0;left: 50%;z-index: -1;}#sk-container-id-1 div.sk-parallel-item {display: flex;flex-direction: column;z-index: 1;position: relative;background-color: white;}#sk-container-id-1 div.sk-parallel-item:first-child::after {align-self: flex-end;width: 50%;}#sk-container-id-1 div.sk-parallel-item:last-child::after {align-self: flex-start;width: 50%;}#sk-container-id-1 div.sk-parallel-item:only-child::after {width: 0;}#sk-container-id-1 div.sk-dashed-wrapped {border: 1px dashed gray;margin: 0 0.4em 0.5em 0.4em;box-sizing: border-box;padding-bottom: 0.4em;background-color: white;}#sk-container-id-1 div.sk-label label {font-family: monospace;font-weight: bold;display: inline-block;line-height: 1.2em;}#sk-container-id-1 div.sk-label-container {text-align: center;}#sk-container-id-1 div.sk-container {/* jupyter's `normalize.less` sets `[hidden] { display: none; }` but bootstrap.min.css set `[hidden] { display: none !important; }` so we also need the `!important` here to be able to override the default hidden behavior on the sphinx rendered scikit-learn.org. See: https://github.com/scikit-learn/scikit-learn/issues/21755 */display: inline-block !important;position: relative;}#sk-container-id-1 div.sk-text-repr-fallback {display: none;}</style><div id=\"sk-container-id-1\" class=\"sk-top-container\"><div class=\"sk-text-repr-fallback\"><pre>RandomForestClassifier()</pre><b>In a Jupyter environment, please rerun this cell to show the HTML representation or trust the notebook. <br />On GitHub, the HTML representation is unable to render, please try loading this page with nbviewer.org.</b></div><div class=\"sk-container\" hidden><div class=\"sk-item\"><div class=\"sk-estimator sk-toggleable\"><input class=\"sk-toggleable__control sk-hidden--visually\" id=\"sk-estimator-id-1\" type=\"checkbox\" checked><label for=\"sk-estimator-id-1\" class=\"sk-toggleable__label sk-toggleable__label-arrow\">RandomForestClassifier</label><div class=\"sk-toggleable__content\"><pre>RandomForestClassifier()</pre></div></div></div></div></div>"
      ],
      "text/plain": [
       "RandomForestClassifier()"
      ]
     },
     "execution_count": 7,
     "metadata": {},
     "output_type": "execute_result"
    }
   ],
   "source": [
    "print(\"[INFO] training model\")\n",
    "model = RandomForestClassifier(n_estimators=100)\n",
    "model.fit(X_train, y_train)"
   ]
  },
  {
   "cell_type": "code",
   "execution_count": 8,
   "metadata": {},
   "outputs": [
    {
     "name": "stdout",
     "output_type": "stream",
     "text": [
      "25\n"
     ]
    },
    {
     "ename": "KeyboardInterrupt",
     "evalue": "",
     "output_type": "error",
     "traceback": [
      "\u001b[1;31m---------------------------------------------------------------------------\u001b[0m",
      "\u001b[1;31mKeyboardInterrupt\u001b[0m                         Traceback (most recent call last)",
      "\u001b[1;32md:\\IBM_Parkinsons\\parkinsons.ipynb Cell 7\u001b[0m in \u001b[0;36m<cell line: 32>\u001b[1;34m()\u001b[0m\n\u001b[0;32m     <a href='vscode-notebook-cell:/d%3A/IBM_Parkinsons/parkinsons.ipynb#W6sZmlsZQ%3D%3D?line=29'>30</a>\u001b[0m \u001b[39m# show the output montage\u001b[39;00m\n\u001b[0;32m     <a href='vscode-notebook-cell:/d%3A/IBM_Parkinsons/parkinsons.ipynb#W6sZmlsZQ%3D%3D?line=30'>31</a>\u001b[0m cv2\u001b[39m.\u001b[39mimshow(\u001b[39m\"\u001b[39m\u001b[39mOutput\u001b[39m\u001b[39m\"\u001b[39m, montage) \n\u001b[1;32m---> <a href='vscode-notebook-cell:/d%3A/IBM_Parkinsons/parkinsons.ipynb#W6sZmlsZQ%3D%3D?line=31'>32</a>\u001b[0m cv2\u001b[39m.\u001b[39;49mwaitKey()\n",
      "\u001b[1;31mKeyboardInterrupt\u001b[0m: "
     ]
    }
   ],
   "source": [
    "# randomly select a few images and then initialize the output images # for the montage\n",
    "testingPaths = list(paths.list_images(testingPath))\n",
    "idxs = np.arange(0, len (testingPaths))\n",
    "idxs = np.random.choice (idxs, size=(25,), replace=False)\n",
    "images = []\n",
    "\n",
    "# loop over the testing samples \n",
    "for i in idxs:\n",
    "# load the testing image, clone it, and resize it\n",
    "    image = cv2.imread(testingPaths[i])\n",
    "    output = image.copy()\n",
    "    output = cv2.resize(output, (128, 128))\n",
    "    # pre-process the image in the same manner we did earlier\n",
    "    image = cv2.cvtColor(image, cv2.COLOR_BGR2GRAY)\n",
    "    image = cv2.resize(image, (200, 200))\n",
    "    image = cv2.threshold (image, 0, 255,\n",
    "    cv2.THRESH_BINARY_INV | cv2. THRESH_OTSU)[1]\n",
    "\n",
    "# quantify the image and make predictions based on the extracted features using the last trained Random Forest \n",
    "    features = quantify_image(image)\n",
    "    preds = model.predict([features])\n",
    "    label =le.inverse_transform(preds)[0]\n",
    "# draw the colored class label on the output image and add it to # the set of output images\n",
    "    color = (0, 255, 0) if label == \"healthy\" else (0, 0, 255)\n",
    "    cv2.putText(output, label, (3, 20), cv2.FONT_HERSHEY_SIMPLEX, 0.5, color, 2)\n",
    "    images.append(output)\n",
    "print(len(images))\n",
    "# create a montage using 128x128 \"tiles\" with 5 rows and 5 columns\n",
    "montage = build_montages (images, (128, 128), (5, 5))[0]\n",
    "# show the output montage\n",
    "cv2.imshow(\"Output\", montage) \n",
    "cv2.waitKey()"
   ]
  },
  {
   "cell_type": "code",
   "execution_count": 9,
   "metadata": {},
   "outputs": [
    {
     "name": "stdout",
     "output_type": "stream",
     "text": [
      "[24  6  7 23]\n",
      "0.7833333333333333\n"
     ]
    }
   ],
   "source": [
    "# make predictions on the testing data\n",
    "predictions = model.predict(X_test) # compute the confusion matrix and and use it to derive the raw\n",
    "# accuracy\n",
    "cm = confusion_matrix(y_test, predictions).flatten() \n",
    "print(cm)\n",
    "(tn, fp, fn, tp) = cm\n",
    "accuracy  = (tp + tn) / float(cm.sum())\n",
    "print(accuracy)"
   ]
  },
  {
   "cell_type": "code",
   "execution_count": 10,
   "metadata": {},
   "outputs": [],
   "source": [
    "pickle.dump(model, open('./artifacts/parkinson.pkl', 'wb'))"
   ]
  },
  {
   "cell_type": "code",
   "execution_count": null,
   "metadata": {},
   "outputs": [],
   "source": []
  }
 ],
 "metadata": {
  "kernelspec": {
   "display_name": "Python 3.8.13 ('ibmpark')",
   "language": "python",
   "name": "python3"
  },
  "language_info": {
   "codemirror_mode": {
    "name": "ipython",
    "version": 3
   },
   "file_extension": ".py",
   "mimetype": "text/x-python",
   "name": "python",
   "nbconvert_exporter": "python",
   "pygments_lexer": "ipython3",
   "version": "3.8.13"
  },
  "orig_nbformat": 4,
  "vscode": {
   "interpreter": {
    "hash": "9c2dbbd9ce249e9833855f0a8ae1312b8a4dce0d84eaddc1126aa6ac8a870e31"
   }
  }
 },
 "nbformat": 4,
 "nbformat_minor": 2
}
